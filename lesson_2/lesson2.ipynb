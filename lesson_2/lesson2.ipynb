{
 "cells": [
  {
   "cell_type": "markdown",
   "metadata": {},
   "source": [
    "### 第二讲 编程基础框架\n",
    "1. 变量\n",
    "    + key/value --定义放在整个程序之前：`int a, b, div;` 合法的标识符！\n",
    "        + how to name? : 驼峰法：用大写字母区分；下划线法\n",
    "        + Good habits \n",
    "            + 风格同一\n",
    "            + 最小化长度\n",
    "            + 避免过于相似\n",
    "            + <u>避免在不同级别作用域中重名！</u>\n",
    "        + 类型修饰符 `short int; long long -> %lld; unsigned int -> %u`\n",
    "        + 类型限定符 `const`\n",
    "        + 赋值类型不一样？ 自动把左侧转化为右侧，会损失精度（尤其是当包含小数）\n",
    "            + 如：\n",
    "        + 小数的控制字符\n",
    "            + `%lf`double 类型\n",
    "            + `%a.bf` a表示输入的数多少位（可略），b表示输出保留位数\n",
    "    + 自面量\n",
    "        + 整型字面量\n",
    "            + 范围内默认整数数字为`int`类型\n",
    "            + `u,ll,llu` 后缀作为特殊类型标记\n",
    "            + 十六进制: `0x`\n",
    "        + 字符字面量\n",
    "            + ASCII码 将字符映射到整数\n",
    "            + 单个字符 `%c` `%d`都可以\n",
    "            + 中国汉字\n",
    "                + GB2312  两个字符在一起\n",
    "                + 全球统一编码 Unicode 第一位的为ASCII码\n",
    "                + UTF-8实现：![本地路径](11.png)\n",
    "            + 实现字符之间的转化\n",
    "                + 大写转小写  先大写字母 后小写字母\n",
    "                ```C\n",
    "                char ch = 'B';\n",
    "                ch = ch - ('a' - 'A');\n",
    "                ```\n",
    "            + <u>scanf 与 %C</u>\n",
    "                + 需要在%c前面增加一个空格，会匹配所有的空白字符，直到遇到非空白字符结束（即输入中的*，该字符未被读入），从而确保后面的%c读入运算符*，以此类推\n",
    "\n",
    "                + 提示：除%c外，其它格式控制符自动忽略掉输入前面的空格；但其他的普通字符则必须原样输入，否则出错！例中3.5、4.3数字前面空格不需要处理，但‘(’、‘,’这种格式串前面空白字符则必须单独处理\n",
    "\n",
    "\n",
    "    + 类型转换\n",
    "        + 隐性\n",
    "            + 自动转化为表达式中“最高级”的类型\n",
    "            + 赋值中，自动把左侧转化为右侧\n",
    "        + 强制转化\n",
    "            + <u>不改变变量本身类型</u>    \n",
    "    + keyword\n",
    "    + array\n",
    "\n",
    "    "
   ]
  },
  {
   "cell_type": "markdown",
   "metadata": {},
   "source": [
    "2. 算术表达式\n",
    "    + 多用括号，避免优先级问题\n"
   ]
  },
  {
   "cell_type": "markdown",
   "metadata": {},
   "source": [
    "3. 逻辑表达式\n",
    "    + <u>短路求值</u>\n",
    "        +  `A && B`    若A为0（假），则B不必求值，结果一定为0（假）\n",
    "        +  `A || B`    若A为非0（真），则B不必求值，结果一定为非0（真）\n",
    "        + 因而，利用这个性质，可以避免判断B时出现因A的错误\n",
    "        + eg.\n",
    "        ```C\n",
    "        //读入字符，如果正确读入，并且不是回车，则循环继续\n",
    "        while( ((ch=getchar()) != EOF) && (ch!= '\\n') )\n",
    "        {\n",
    "        ...\n",
    "        }\n",
    "        ```\n",
    "    + 巧用逻辑运算，真是1，假是0\n",
    "        ```C\n",
    "        #include <stdio.h>\n",
    "        int main(){\n",
    "        int a, b, c, d, e, f;\n",
    "        printf(\"The actual ranking of sporters:\\n\");\n",
    "        printf(\"A: \"); scanf(\"%d\", &a);\n",
    "        printf(\"B: \"); scanf(\"%d\", &b);\n",
    "        printf(\"C: \"); scanf(\"%d\", &c);\n",
    "        printf(\"D: \"); scanf(\"%d\", &d);\n",
    "        printf(\"E: \"); scanf(\"%d\", &e);\n",
    "        printf(\"F: \"); scanf(\"%d\", &f);\n",
    "        if( (a == 1) + (b == 2) + (c == 3) +(d == 4) + (e == 5) + (f == 6) == 3 )\n",
    "            printf(\"Got it! You are a normal person.\\n\");\n",
    "        return 0;\n",
    "        }\n",
    "        ```\n",
    "+ 运算优先级\n",
    "![本地路径](22.png)"
   ]
  },
  {
   "cell_type": "code",
   "execution_count": null,
   "metadata": {
    "vscode": {
     "languageId": "plaintext"
    }
   },
   "outputs": [],
   "source": []
  }
 ],
 "metadata": {
  "language_info": {
   "name": "python"
  }
 },
 "nbformat": 4,
 "nbformat_minor": 2
}
