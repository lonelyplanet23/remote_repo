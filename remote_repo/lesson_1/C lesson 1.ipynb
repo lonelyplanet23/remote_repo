{
 "cells": [
  {
   "cell_type": "markdown",
   "metadata": {},
   "source": [
    "+ 好习惯\n",
    "    + 1.换行：变量与主代码之间空行；主代码与函数与return 0换行\n",
    "    + 2.空格： \",\"后空一格；运算符与变量之间空一格\n",
    "+ 例如\n",
    "```C\n",
    "#include<iostream>\n",
    "\n",
    "int main()\n",
    "{\n",
    "    int a;\n",
    "    int b;\n",
    "    int c;\n",
    "\n",
    "    scanf(\"%d%d\",&a,&b);\n",
    "    c = a + b;\n",
    "    printf(\"%d + %d = %d\", a, b, c);\n",
    "\n",
    "    return 0;\n",
    "}\n",
    "```"
   ]
  },
  {
   "cell_type": "markdown",
   "metadata": {
    "vscode": {
     "languageId": "c"
    }
   },
   "source": [
    "+ scanf 注意\n",
    "    + `scanf(\"%d%d\", &a, &b);` \n",
    "        + 输入两个数之间加空格\n",
    "    + 引号中若有其他字符，输入时也必须加入字符 eg. `scanf(\"%d,%d\", &a, &b);` \n",
    "        + 此时输出必须为 x,y"
   ]
  },
  {
   "cell_type": "markdown",
   "metadata": {},
   "source": [
    "+ 若if条件中写成赋值语句，那么真假则取决于赋的值\n",
    "+ 如：\n",
    "``` C \n",
    "int i = 1000;\n",
    "if(i = 0)\n",
    "```\n",
    "+ 结果为假\n"
   ]
  },
  {
   "cell_type": "markdown",
   "metadata": {},
   "source": [
    "练习1：用选择结构实现功能： 除法运算（被除数不能为0）"
   ]
  },
  {
   "cell_type": "markdown",
   "metadata": {},
   "source": [
    "练习2：成绩分层"
   ]
  },
  {
   "cell_type": "markdown",
   "metadata": {},
   "source": [
    "练习3：输出n个星星\n"
   ]
  },
  {
   "cell_type": "markdown",
   "metadata": {},
   "source": [
    "+ 注意：变量一定要初始化，尤其不要忘了0（不是所有变量默认为0）"
   ]
  },
  {
   "cell_type": "markdown",
   "metadata": {},
   "source": [
    "+ 注意：在while循环中，不能在条件里新声明变量，需要提前声明（逻辑判断中不能声明赋值）\n",
    "+ 错误示范 `while(int i < 5) `"
   ]
  }
 ],
 "metadata": {
  "language_info": {
   "name": "python"
  }
 },
 "nbformat": 4,
 "nbformat_minor": 2
}
